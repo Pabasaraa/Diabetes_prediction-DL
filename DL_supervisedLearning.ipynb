{
  "cells": [
    {
      "cell_type": "code",
      "execution_count": 1,
      "metadata": {
        "id": "H8XhYgBSg3pA"
      },
      "outputs": [],
      "source": [
        "import pandas as pd\n",
        "import numpy as np\n",
        "from matplotlib import pyplot as plt\n",
        "from sklearn.model_selection import train_test_split\n",
        "from sklearn.metrics import confusion_matrix, ConfusionMatrixDisplay"
      ]
    },
    {
      "cell_type": "code",
      "execution_count": 2,
      "metadata": {
        "colab": {
          "base_uri": "https://localhost:8080/"
        },
        "id": "1doj3ySSGhZH",
        "outputId": "129beed7-12db-4e46-9018-c89d8706725e"
      },
      "outputs": [
        {
          "output_type": "stream",
          "name": "stdout",
          "text": [
            "diabetes_012_health_indicators_updated.csv  \u001b[0m\u001b[01;34msample_data\u001b[0m/\n"
          ]
        }
      ],
      "source": [
        "%ls"
      ]
    },
    {
      "cell_type": "code",
      "execution_count": 3,
      "metadata": {
        "id": "KZEHv8_WhGJM"
      },
      "outputs": [],
      "source": [
        "# Read the CSV file 'diabetes_012_health_indicators_updated.csv' into a DataFrame\n",
        "df = pd.read_csv('diabetes_012_health_indicators_updated.csv')\n",
        "\n",
        "# Create a new DataFrame using the read data\n",
        "df = pd.DataFrame(df)"
      ]
    },
    {
      "cell_type": "code",
      "execution_count": 4,
      "metadata": {
        "colab": {
          "base_uri": "https://localhost:8080/",
          "height": 147
        },
        "id": "pwI7OorPTYXv",
        "outputId": "2a1d6366-17f0-45b5-e1e7-aa04f0208e5c"
      },
      "outputs": [
        {
          "output_type": "execute_result",
          "data": {
            "text/plain": [
              "      Unnamed: 0  Diabetes_012  HighBP HighChol  CholCheck   BMI Smoker  \\\n",
              "1587        1587           2.0     1.0      Yes        1.0  30.0    Yes   \n",
              "\n",
              "      Stroke  HeartDiseaseorAttack  PhysActivity  ... AnyHealthcare  \\\n",
              "1587     0.0                   0.0           0.0  ...           1.0   \n",
              "\n",
              "     NoDocbcCost  GenHlth  MentHlth  PhysHlth  DiffWalk     Sex   Age  \\\n",
              "1587         0.0      3.0       0.0       0.0        No  female  65.0   \n",
              "\n",
              "     Education Income  \n",
              "1587       4.0    8.0  \n",
              "\n",
              "[1 rows x 23 columns]"
            ],
            "text/html": [
              "\n",
              "  <div id=\"df-79d8515b-b56b-40a2-9d5f-151439029510\" class=\"colab-df-container\">\n",
              "    <div>\n",
              "<style scoped>\n",
              "    .dataframe tbody tr th:only-of-type {\n",
              "        vertical-align: middle;\n",
              "    }\n",
              "\n",
              "    .dataframe tbody tr th {\n",
              "        vertical-align: top;\n",
              "    }\n",
              "\n",
              "    .dataframe thead th {\n",
              "        text-align: right;\n",
              "    }\n",
              "</style>\n",
              "<table border=\"1\" class=\"dataframe\">\n",
              "  <thead>\n",
              "    <tr style=\"text-align: right;\">\n",
              "      <th></th>\n",
              "      <th>Unnamed: 0</th>\n",
              "      <th>Diabetes_012</th>\n",
              "      <th>HighBP</th>\n",
              "      <th>HighChol</th>\n",
              "      <th>CholCheck</th>\n",
              "      <th>BMI</th>\n",
              "      <th>Smoker</th>\n",
              "      <th>Stroke</th>\n",
              "      <th>HeartDiseaseorAttack</th>\n",
              "      <th>PhysActivity</th>\n",
              "      <th>...</th>\n",
              "      <th>AnyHealthcare</th>\n",
              "      <th>NoDocbcCost</th>\n",
              "      <th>GenHlth</th>\n",
              "      <th>MentHlth</th>\n",
              "      <th>PhysHlth</th>\n",
              "      <th>DiffWalk</th>\n",
              "      <th>Sex</th>\n",
              "      <th>Age</th>\n",
              "      <th>Education</th>\n",
              "      <th>Income</th>\n",
              "    </tr>\n",
              "  </thead>\n",
              "  <tbody>\n",
              "    <tr>\n",
              "      <th>1587</th>\n",
              "      <td>1587</td>\n",
              "      <td>2.0</td>\n",
              "      <td>1.0</td>\n",
              "      <td>Yes</td>\n",
              "      <td>1.0</td>\n",
              "      <td>30.0</td>\n",
              "      <td>Yes</td>\n",
              "      <td>0.0</td>\n",
              "      <td>0.0</td>\n",
              "      <td>0.0</td>\n",
              "      <td>...</td>\n",
              "      <td>1.0</td>\n",
              "      <td>0.0</td>\n",
              "      <td>3.0</td>\n",
              "      <td>0.0</td>\n",
              "      <td>0.0</td>\n",
              "      <td>No</td>\n",
              "      <td>female</td>\n",
              "      <td>65.0</td>\n",
              "      <td>4.0</td>\n",
              "      <td>8.0</td>\n",
              "    </tr>\n",
              "  </tbody>\n",
              "</table>\n",
              "<p>1 rows × 23 columns</p>\n",
              "</div>\n",
              "    <div class=\"colab-df-buttons\">\n",
              "\n",
              "  <div class=\"colab-df-container\">\n",
              "    <button class=\"colab-df-convert\" onclick=\"convertToInteractive('df-79d8515b-b56b-40a2-9d5f-151439029510')\"\n",
              "            title=\"Convert this dataframe to an interactive table.\"\n",
              "            style=\"display:none;\">\n",
              "\n",
              "  <svg xmlns=\"http://www.w3.org/2000/svg\" height=\"24px\" viewBox=\"0 -960 960 960\">\n",
              "    <path d=\"M120-120v-720h720v720H120Zm60-500h600v-160H180v160Zm220 220h160v-160H400v160Zm0 220h160v-160H400v160ZM180-400h160v-160H180v160Zm440 0h160v-160H620v160ZM180-180h160v-160H180v160Zm440 0h160v-160H620v160Z\"/>\n",
              "  </svg>\n",
              "    </button>\n",
              "\n",
              "  <style>\n",
              "    .colab-df-container {\n",
              "      display:flex;\n",
              "      gap: 12px;\n",
              "    }\n",
              "\n",
              "    .colab-df-convert {\n",
              "      background-color: #E8F0FE;\n",
              "      border: none;\n",
              "      border-radius: 50%;\n",
              "      cursor: pointer;\n",
              "      display: none;\n",
              "      fill: #1967D2;\n",
              "      height: 32px;\n",
              "      padding: 0 0 0 0;\n",
              "      width: 32px;\n",
              "    }\n",
              "\n",
              "    .colab-df-convert:hover {\n",
              "      background-color: #E2EBFA;\n",
              "      box-shadow: 0px 1px 2px rgba(60, 64, 67, 0.3), 0px 1px 3px 1px rgba(60, 64, 67, 0.15);\n",
              "      fill: #174EA6;\n",
              "    }\n",
              "\n",
              "    .colab-df-buttons div {\n",
              "      margin-bottom: 4px;\n",
              "    }\n",
              "\n",
              "    [theme=dark] .colab-df-convert {\n",
              "      background-color: #3B4455;\n",
              "      fill: #D2E3FC;\n",
              "    }\n",
              "\n",
              "    [theme=dark] .colab-df-convert:hover {\n",
              "      background-color: #434B5C;\n",
              "      box-shadow: 0px 1px 3px 1px rgba(0, 0, 0, 0.15);\n",
              "      filter: drop-shadow(0px 1px 2px rgba(0, 0, 0, 0.3));\n",
              "      fill: #FFFFFF;\n",
              "    }\n",
              "  </style>\n",
              "\n",
              "    <script>\n",
              "      const buttonEl =\n",
              "        document.querySelector('#df-79d8515b-b56b-40a2-9d5f-151439029510 button.colab-df-convert');\n",
              "      buttonEl.style.display =\n",
              "        google.colab.kernel.accessAllowed ? 'block' : 'none';\n",
              "\n",
              "      async function convertToInteractive(key) {\n",
              "        const element = document.querySelector('#df-79d8515b-b56b-40a2-9d5f-151439029510');\n",
              "        const dataTable =\n",
              "          await google.colab.kernel.invokeFunction('convertToInteractive',\n",
              "                                                    [key], {});\n",
              "        if (!dataTable) return;\n",
              "\n",
              "        const docLinkHtml = 'Like what you see? Visit the ' +\n",
              "          '<a target=\"_blank\" href=https://colab.research.google.com/notebooks/data_table.ipynb>data table notebook</a>'\n",
              "          + ' to learn more about interactive tables.';\n",
              "        element.innerHTML = '';\n",
              "        dataTable['output_type'] = 'display_data';\n",
              "        await google.colab.output.renderOutput(dataTable, element);\n",
              "        const docLink = document.createElement('div');\n",
              "        docLink.innerHTML = docLinkHtml;\n",
              "        element.appendChild(docLink);\n",
              "      }\n",
              "    </script>\n",
              "  </div>\n",
              "\n",
              "    </div>\n",
              "  </div>\n"
            ]
          },
          "metadata": {},
          "execution_count": 4
        }
      ],
      "source": [
        "# Display a random sample (single row) from the DataFrame 'df'\n",
        "df.sample()"
      ]
    },
    {
      "cell_type": "markdown",
      "metadata": {
        "id": "HzvxLz2SL1am"
      },
      "source": [
        "**Data Preprocessing**"
      ]
    },
    {
      "cell_type": "code",
      "execution_count": 5,
      "metadata": {
        "id": "5i5rOj2yHffF"
      },
      "outputs": [],
      "source": [
        "# Create a new column 'Diabetes_01' in the DataFrame 'df' and assign the values from the 'Diabetes_012' column\n",
        "df['Diabetes_01'] = df.loc[:, 'Diabetes_012']"
      ]
    },
    {
      "cell_type": "code",
      "execution_count": 6,
      "metadata": {
        "colab": {
          "base_uri": "https://localhost:8080/",
          "height": 147
        },
        "id": "pkvPhhdKILEK",
        "outputId": "e20b9e86-0e3d-4af5-baa3-2c55a54c6cb3"
      },
      "outputs": [
        {
          "output_type": "execute_result",
          "data": {
            "text/plain": [
              "       Unnamed: 0  Diabetes_012  HighBP HighChol  CholCheck   BMI Smoker  \\\n",
              "14483       14483           0.0     0.0       No        1.0  22.0    Yes   \n",
              "\n",
              "       Stroke  HeartDiseaseorAttack  PhysActivity  ... NoDocbcCost GenHlth  \\\n",
              "14483     0.0                   0.0           1.0  ...         0.0     1.0   \n",
              "\n",
              "       MentHlth  PhysHlth  DiffWalk     Sex   Age  Education Income  \\\n",
              "14483       0.0       0.0        No  female  67.0        6.0    8.0   \n",
              "\n",
              "      Diabetes_01  \n",
              "14483         0.0  \n",
              "\n",
              "[1 rows x 24 columns]"
            ],
            "text/html": [
              "\n",
              "  <div id=\"df-c3a16b04-1424-4c09-a07e-d3373c5dbb86\" class=\"colab-df-container\">\n",
              "    <div>\n",
              "<style scoped>\n",
              "    .dataframe tbody tr th:only-of-type {\n",
              "        vertical-align: middle;\n",
              "    }\n",
              "\n",
              "    .dataframe tbody tr th {\n",
              "        vertical-align: top;\n",
              "    }\n",
              "\n",
              "    .dataframe thead th {\n",
              "        text-align: right;\n",
              "    }\n",
              "</style>\n",
              "<table border=\"1\" class=\"dataframe\">\n",
              "  <thead>\n",
              "    <tr style=\"text-align: right;\">\n",
              "      <th></th>\n",
              "      <th>Unnamed: 0</th>\n",
              "      <th>Diabetes_012</th>\n",
              "      <th>HighBP</th>\n",
              "      <th>HighChol</th>\n",
              "      <th>CholCheck</th>\n",
              "      <th>BMI</th>\n",
              "      <th>Smoker</th>\n",
              "      <th>Stroke</th>\n",
              "      <th>HeartDiseaseorAttack</th>\n",
              "      <th>PhysActivity</th>\n",
              "      <th>...</th>\n",
              "      <th>NoDocbcCost</th>\n",
              "      <th>GenHlth</th>\n",
              "      <th>MentHlth</th>\n",
              "      <th>PhysHlth</th>\n",
              "      <th>DiffWalk</th>\n",
              "      <th>Sex</th>\n",
              "      <th>Age</th>\n",
              "      <th>Education</th>\n",
              "      <th>Income</th>\n",
              "      <th>Diabetes_01</th>\n",
              "    </tr>\n",
              "  </thead>\n",
              "  <tbody>\n",
              "    <tr>\n",
              "      <th>14483</th>\n",
              "      <td>14483</td>\n",
              "      <td>0.0</td>\n",
              "      <td>0.0</td>\n",
              "      <td>No</td>\n",
              "      <td>1.0</td>\n",
              "      <td>22.0</td>\n",
              "      <td>Yes</td>\n",
              "      <td>0.0</td>\n",
              "      <td>0.0</td>\n",
              "      <td>1.0</td>\n",
              "      <td>...</td>\n",
              "      <td>0.0</td>\n",
              "      <td>1.0</td>\n",
              "      <td>0.0</td>\n",
              "      <td>0.0</td>\n",
              "      <td>No</td>\n",
              "      <td>female</td>\n",
              "      <td>67.0</td>\n",
              "      <td>6.0</td>\n",
              "      <td>8.0</td>\n",
              "      <td>0.0</td>\n",
              "    </tr>\n",
              "  </tbody>\n",
              "</table>\n",
              "<p>1 rows × 24 columns</p>\n",
              "</div>\n",
              "    <div class=\"colab-df-buttons\">\n",
              "\n",
              "  <div class=\"colab-df-container\">\n",
              "    <button class=\"colab-df-convert\" onclick=\"convertToInteractive('df-c3a16b04-1424-4c09-a07e-d3373c5dbb86')\"\n",
              "            title=\"Convert this dataframe to an interactive table.\"\n",
              "            style=\"display:none;\">\n",
              "\n",
              "  <svg xmlns=\"http://www.w3.org/2000/svg\" height=\"24px\" viewBox=\"0 -960 960 960\">\n",
              "    <path d=\"M120-120v-720h720v720H120Zm60-500h600v-160H180v160Zm220 220h160v-160H400v160Zm0 220h160v-160H400v160ZM180-400h160v-160H180v160Zm440 0h160v-160H620v160ZM180-180h160v-160H180v160Zm440 0h160v-160H620v160Z\"/>\n",
              "  </svg>\n",
              "    </button>\n",
              "\n",
              "  <style>\n",
              "    .colab-df-container {\n",
              "      display:flex;\n",
              "      gap: 12px;\n",
              "    }\n",
              "\n",
              "    .colab-df-convert {\n",
              "      background-color: #E8F0FE;\n",
              "      border: none;\n",
              "      border-radius: 50%;\n",
              "      cursor: pointer;\n",
              "      display: none;\n",
              "      fill: #1967D2;\n",
              "      height: 32px;\n",
              "      padding: 0 0 0 0;\n",
              "      width: 32px;\n",
              "    }\n",
              "\n",
              "    .colab-df-convert:hover {\n",
              "      background-color: #E2EBFA;\n",
              "      box-shadow: 0px 1px 2px rgba(60, 64, 67, 0.3), 0px 1px 3px 1px rgba(60, 64, 67, 0.15);\n",
              "      fill: #174EA6;\n",
              "    }\n",
              "\n",
              "    .colab-df-buttons div {\n",
              "      margin-bottom: 4px;\n",
              "    }\n",
              "\n",
              "    [theme=dark] .colab-df-convert {\n",
              "      background-color: #3B4455;\n",
              "      fill: #D2E3FC;\n",
              "    }\n",
              "\n",
              "    [theme=dark] .colab-df-convert:hover {\n",
              "      background-color: #434B5C;\n",
              "      box-shadow: 0px 1px 3px 1px rgba(0, 0, 0, 0.15);\n",
              "      filter: drop-shadow(0px 1px 2px rgba(0, 0, 0, 0.3));\n",
              "      fill: #FFFFFF;\n",
              "    }\n",
              "  </style>\n",
              "\n",
              "    <script>\n",
              "      const buttonEl =\n",
              "        document.querySelector('#df-c3a16b04-1424-4c09-a07e-d3373c5dbb86 button.colab-df-convert');\n",
              "      buttonEl.style.display =\n",
              "        google.colab.kernel.accessAllowed ? 'block' : 'none';\n",
              "\n",
              "      async function convertToInteractive(key) {\n",
              "        const element = document.querySelector('#df-c3a16b04-1424-4c09-a07e-d3373c5dbb86');\n",
              "        const dataTable =\n",
              "          await google.colab.kernel.invokeFunction('convertToInteractive',\n",
              "                                                    [key], {});\n",
              "        if (!dataTable) return;\n",
              "\n",
              "        const docLinkHtml = 'Like what you see? Visit the ' +\n",
              "          '<a target=\"_blank\" href=https://colab.research.google.com/notebooks/data_table.ipynb>data table notebook</a>'\n",
              "          + ' to learn more about interactive tables.';\n",
              "        element.innerHTML = '';\n",
              "        dataTable['output_type'] = 'display_data';\n",
              "        await google.colab.output.renderOutput(dataTable, element);\n",
              "        const docLink = document.createElement('div');\n",
              "        docLink.innerHTML = docLinkHtml;\n",
              "        element.appendChild(docLink);\n",
              "      }\n",
              "    </script>\n",
              "  </div>\n",
              "\n",
              "    </div>\n",
              "  </div>\n"
            ]
          },
          "metadata": {},
          "execution_count": 6
        }
      ],
      "source": [
        "df.sample()"
      ]
    },
    {
      "cell_type": "code",
      "execution_count": 7,
      "metadata": {
        "id": "M0R3nhYwADHU"
      },
      "outputs": [],
      "source": [
        "# Replace values in the 'Diabetes_01' column of the DataFrame 'df'\n",
        "df['Diabetes_01'].replace([1, 2], [1, 1], inplace=True)"
      ]
    },
    {
      "cell_type": "code",
      "execution_count": 8,
      "metadata": {
        "colab": {
          "base_uri": "https://localhost:8080/"
        },
        "id": "gZtZidQwh-CM",
        "outputId": "10819b8c-8704-4375-a89d-7342be0f079c"
      },
      "outputs": [
        {
          "output_type": "stream",
          "name": "stdout",
          "text": [
            "<class 'pandas.core.frame.DataFrame'>\n",
            "RangeIndex: 21852 entries, 0 to 21851\n",
            "Data columns (total 24 columns):\n",
            " #   Column                Non-Null Count  Dtype  \n",
            "---  ------                --------------  -----  \n",
            " 0   Unnamed: 0            21852 non-null  int64  \n",
            " 1   Diabetes_012          21852 non-null  float64\n",
            " 2   HighBP                21852 non-null  float64\n",
            " 3   HighChol              21852 non-null  object \n",
            " 4   CholCheck             21852 non-null  float64\n",
            " 5   BMI                   21852 non-null  float64\n",
            " 6   Smoker                21852 non-null  object \n",
            " 7   Stroke                21852 non-null  float64\n",
            " 8   HeartDiseaseorAttack  21852 non-null  float64\n",
            " 9   PhysActivity          21852 non-null  float64\n",
            " 10  Fruits                21852 non-null  object \n",
            " 11  Veggies               21852 non-null  object \n",
            " 12  HvyAlcoholConsump     21852 non-null  float64\n",
            " 13  AnyHealthcare         21852 non-null  float64\n",
            " 14  NoDocbcCost           21852 non-null  float64\n",
            " 15  GenHlth               21852 non-null  float64\n",
            " 16  MentHlth              21852 non-null  float64\n",
            " 17  PhysHlth              21852 non-null  float64\n",
            " 18  DiffWalk              21852 non-null  object \n",
            " 19  Sex                   21852 non-null  object \n",
            " 20  Age                   21852 non-null  float64\n",
            " 21  Education             21852 non-null  float64\n",
            " 22  Income                21851 non-null  float64\n",
            " 23  Diabetes_01           21852 non-null  float64\n",
            "dtypes: float64(17), int64(1), object(6)\n",
            "memory usage: 4.0+ MB\n"
          ]
        }
      ],
      "source": [
        "# Display information about the DataFrame 'df', including data types and memory usage\n",
        "df.info()"
      ]
    },
    {
      "cell_type": "code",
      "execution_count": 9,
      "metadata": {
        "id": "BE9-jxqkiAJU"
      },
      "outputs": [],
      "source": [
        "# Drop specified columns ('Unnamed: 0', 'AnyHealthcare', 'NoDocbcCost') from the DataFrame 'df'\n",
        "df = df.drop(['Unnamed: 0', 'AnyHealthcare', 'NoDocbcCost'], axis=1)"
      ]
    },
    {
      "cell_type": "code",
      "execution_count": 10,
      "metadata": {
        "id": "e3yAK9kOiXkh"
      },
      "outputs": [],
      "source": [
        "# Replace values in specific columns of the DataFrame 'df' as a step of pre-processing\n",
        "df['HighChol'].replace(['Yes', 'No'], [1, 0], inplace=True)\n",
        "df['DiffWalk'].replace(['Yes', 'No'], [1, 0], inplace=True)\n",
        "df['Veggies'].replace(['Yes', 'No'], [1, 0], inplace=True)\n",
        "df['Fruits'].replace(['Yes', 'No'], [1, 0], inplace=True)\n",
        "df['Smoker'].replace(['Yes', 'No'], [1, 0], inplace=True)\n",
        "df['Sex'].replace(['male', 'female'], [1, 0], inplace=True)"
      ]
    },
    {
      "cell_type": "code",
      "source": [
        "def up_sample():\n",
        "    from sklearn.utils import resample\n",
        "\n",
        "    # Separate majority and minority classes\n",
        "    df_majority = df[df.Diabetes_01 == 0]\n",
        "    df_minority = df[df.Diabetes_01 == 1]\n",
        "\n",
        "    # Upsample the minority class to match the majority class\n",
        "    df_minority_upsampled = resample(df_minority,\n",
        "                                     replace=True,      # Sample with replacement\n",
        "                                     n_samples=213703,  # Number of samples to match the majority class\n",
        "                                     random_state=123)  # For reproducible results\n",
        "\n",
        "    # Concatenate the upsampled minority class with the majority class\n",
        "    df_upsampled = pd.concat([df_majority, df_minority_upsampled])\n",
        "\n",
        "    # Display the count of each class after upsampling\n",
        "    df_upsampled.Diabetes_01.value_counts()\n",
        "\n",
        "    # Separate features (x) and target variable (y) in the upsampled DataFrame\n",
        "    y = df_upsampled.Diabetes_01\n",
        "    x = df_upsampled.drop([\"Diabetes_01\", \"Diabetes_012\"], axis=1)\n"
      ],
      "metadata": {
        "id": "zd_lNWYEEAiu"
      },
      "execution_count": 15,
      "outputs": []
    },
    {
      "cell_type": "code",
      "execution_count": 16,
      "metadata": {
        "id": "OILvyYbdMnG8"
      },
      "outputs": [],
      "source": [
        "def down_sample():\n",
        "    from sklearn.utils import resample\n",
        "\n",
        "    # Separate majority and minority classes\n",
        "    df_majority = df[df.Diabetes_01 == 0]\n",
        "    df_minority = df[df.Diabetes_01 == 1]\n",
        "\n",
        "    # Downsample the majority class to match the minority class\n",
        "    df_majority_downsampled = resample(df_majority,\n",
        "                                       replace=False,      # Sample without replacement\n",
        "                                       n_samples=39977,    # Number of samples to match the minority class\n",
        "                                       random_state=123)   # For reproducible results\n",
        "\n",
        "    # Concatenate the downsampled majority class with the minority class\n",
        "    df_downsampled = pd.concat([df_majority_downsampled, df_minority])\n",
        "\n",
        "    # Display the count of each class after downsampling\n",
        "    df_downsampled.Diabetes_01.value_counts()\n",
        "\n",
        "    # Separate features (x) and target variable (y) in the downsampled DataFrame\n",
        "    y = df_downsampled.Diabetes_01\n",
        "    x = df_downsampled.drop([\"Diabetes_01\", \"Diabetes_012\"], axis=1)\n"
      ]
    },
    {
      "cell_type": "code",
      "execution_count": 17,
      "metadata": {
        "id": "G_U8ozdzjC4q"
      },
      "outputs": [],
      "source": [
        "# Separate features (x) and target variable (y) from the DataFrame 'df'\n",
        "x = df.drop([\"Diabetes_01\", \"Diabetes_012\"], axis=1)\n",
        "y = df['Diabetes_01']"
      ]
    },
    {
      "cell_type": "code",
      "execution_count": 18,
      "metadata": {
        "id": "T0YHe9Ruj1k2"
      },
      "outputs": [],
      "source": [
        "# Split the data into training and testing sets using train_test_split\n",
        "x_train, x_test, y_train, y_test = train_test_split(x, y, test_size=0.2)"
      ]
    }
  ],
  "metadata": {
    "accelerator": "GPU",
    "colab": {
      "provenance": []
    },
    "kernelspec": {
      "display_name": "Python 3 (ipykernel)",
      "language": "python",
      "name": "python3"
    },
    "language_info": {
      "codemirror_mode": {
        "name": "ipython",
        "version": 3
      },
      "file_extension": ".py",
      "mimetype": "text/x-python",
      "name": "python",
      "nbconvert_exporter": "python",
      "pygments_lexer": "ipython3",
      "version": "3.10.7"
    }
  },
  "nbformat": 4,
  "nbformat_minor": 0
}